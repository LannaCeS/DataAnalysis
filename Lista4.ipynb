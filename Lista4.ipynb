{
  "cells": [
    {
      "cell_type": "markdown",
      "metadata": {
        "id": "Dk5a1obO9viv"
      },
      "source": [
        "Importando o dataset"
      ]
    },
    {
      "cell_type": "code",
      "execution_count": 1,
      "metadata": {
        "id": "-c3vO8o5yREi"
      },
      "outputs": [],
      "source": [
        "import numpy as np\n",
        "import pandas as pd"
      ]
    },
    {
      "cell_type": "code",
      "execution_count": 2,
      "metadata": {
        "id": "7cmGcupB7Umg"
      },
      "outputs": [],
      "source": [
        "dataset = np.loadtxt(r\"C:\\Users\\lanna\\Downloads\\space.csv\", delimiter=';', dtype = str, encoding = 'utf-8')"
      ]
    },
    {
      "cell_type": "code",
      "execution_count": 4,
      "metadata": {
        "colab": {
          "base_uri": "https://localhost:8080/",
          "height": 245
        },
        "id": "9vnCPUv88BJI",
        "outputId": "5d347596-049b-4423-aab4-cfadb393f817"
      },
      "outputs": [
        {
          "data": {
            "text/html": [
              "<div>\n",
              "<style scoped>\n",
              "    .dataframe tbody tr th:only-of-type {\n",
              "        vertical-align: middle;\n",
              "    }\n",
              "\n",
              "    .dataframe tbody tr th {\n",
              "        vertical-align: top;\n",
              "    }\n",
              "\n",
              "    .dataframe thead th {\n",
              "        text-align: right;\n",
              "    }\n",
              "</style>\n",
              "<table border=\"1\" class=\"dataframe\">\n",
              "  <thead>\n",
              "    <tr style=\"text-align: right;\">\n",
              "      <th></th>\n",
              "      <th>0</th>\n",
              "      <th>1</th>\n",
              "      <th>2</th>\n",
              "      <th>3</th>\n",
              "      <th>4</th>\n",
              "      <th>5</th>\n",
              "      <th>6</th>\n",
              "      <th>7</th>\n",
              "    </tr>\n",
              "  </thead>\n",
              "  <tbody>\n",
              "    <tr>\n",
              "      <th>0</th>\n",
              "      <td>﻿Num</td>\n",
              "      <td>Company Name</td>\n",
              "      <td>Location</td>\n",
              "      <td>Datum</td>\n",
              "      <td>Detail</td>\n",
              "      <td>Status Rocket</td>\n",
              "      <td>Cost</td>\n",
              "      <td>Status Mission</td>\n",
              "    </tr>\n",
              "    <tr>\n",
              "      <th>1</th>\n",
              "      <td>0</td>\n",
              "      <td>SpaceX</td>\n",
              "      <td>LC-39A Kennedy Space Center Florida USA</td>\n",
              "      <td>Fri Aug 07 2020 05:12 UTC</td>\n",
              "      <td>Falcon 9 Block 5 | Starlink V1 L9 &amp; BlackSky</td>\n",
              "      <td>StatusActive</td>\n",
              "      <td>50.0</td>\n",
              "      <td>Success</td>\n",
              "    </tr>\n",
              "    <tr>\n",
              "      <th>2</th>\n",
              "      <td>1</td>\n",
              "      <td>CASC</td>\n",
              "      <td>Site 9401 (SLS-2) Jiuquan Satellite Launch Cen...</td>\n",
              "      <td>Thu Aug 06 2020 04:01 UTC</td>\n",
              "      <td>Long March 2D | Gaofen-9 04 &amp; Q-SAT</td>\n",
              "      <td>StatusActive</td>\n",
              "      <td>29.75</td>\n",
              "      <td>Success</td>\n",
              "    </tr>\n",
              "    <tr>\n",
              "      <th>3</th>\n",
              "      <td>2</td>\n",
              "      <td>SpaceX</td>\n",
              "      <td>Pad A Boca Chica Texas USA</td>\n",
              "      <td>Tue Aug 04 2020 23:57 UTC</td>\n",
              "      <td>Starship Prototype | 150 Meter Hop</td>\n",
              "      <td>StatusActive</td>\n",
              "      <td>0</td>\n",
              "      <td>Success</td>\n",
              "    </tr>\n",
              "    <tr>\n",
              "      <th>4</th>\n",
              "      <td>3</td>\n",
              "      <td>Roscosmos</td>\n",
              "      <td>Site 200/39 Baikonur Cosmodrome Kazakhstan</td>\n",
              "      <td>Thu Jul 30 2020 21:25 UTC</td>\n",
              "      <td>Proton-M/Briz-M | Ekspress-80 &amp; Ekspress-103</td>\n",
              "      <td>StatusActive</td>\n",
              "      <td>65.0</td>\n",
              "      <td>Success</td>\n",
              "    </tr>\n",
              "  </tbody>\n",
              "</table>\n",
              "</div>"
            ],
            "text/plain": [
              "      0             1                                                  2  \\\n",
              "0  ﻿Num  Company Name                                           Location   \n",
              "1     0        SpaceX            LC-39A Kennedy Space Center Florida USA   \n",
              "2     1          CASC  Site 9401 (SLS-2) Jiuquan Satellite Launch Cen...   \n",
              "3     2        SpaceX                         Pad A Boca Chica Texas USA   \n",
              "4     3     Roscosmos         Site 200/39 Baikonur Cosmodrome Kazakhstan   \n",
              "\n",
              "                           3                                             4  \\\n",
              "0                      Datum                                        Detail   \n",
              "1  Fri Aug 07 2020 05:12 UTC  Falcon 9 Block 5 | Starlink V1 L9 & BlackSky   \n",
              "2  Thu Aug 06 2020 04:01 UTC           Long March 2D | Gaofen-9 04 & Q-SAT   \n",
              "3  Tue Aug 04 2020 23:57 UTC            Starship Prototype | 150 Meter Hop   \n",
              "4  Thu Jul 30 2020 21:25 UTC  Proton-M/Briz-M | Ekspress-80 & Ekspress-103   \n",
              "\n",
              "               5       6               7  \n",
              "0  Status Rocket    Cost  Status Mission  \n",
              "1   StatusActive   50.0          Success  \n",
              "2   StatusActive  29.75          Success  \n",
              "3   StatusActive       0         Success  \n",
              "4   StatusActive   65.0          Success  "
            ]
          },
          "execution_count": 4,
          "metadata": {},
          "output_type": "execute_result"
        }
      ],
      "source": [
        "data = pd.DataFrame(dataset)\n",
        "data.head()"
      ]
    },
    {
      "cell_type": "code",
      "execution_count": 6,
      "metadata": {
        "colab": {
          "base_uri": "https://localhost:8080/"
        },
        "id": "uc1qXw2VKCAo",
        "outputId": "343028da-5248-421b-ea07-08b8b6a4c33b"
      },
      "outputs": [
        {
          "name": "stdout",
          "output_type": "stream",
          "text": [
            "[['\\ufeffNum' 'Company Name' 'Location' ... 'Status Rocket' ' Cost'\n",
            "  'Status Mission']\n",
            " ['0' 'SpaceX' 'LC-39A Kennedy Space Center Florida USA' ...\n",
            "  'StatusActive' '50.0 ' 'Success']\n",
            " ['1' 'CASC' 'Site 9401 (SLS-2) Jiuquan Satellite Launch Center China'\n",
            "  ... 'StatusActive' '29.75 ' 'Success']\n",
            " ...\n",
            " ['4321' 'US Navy' 'LC-18A Cape Canaveral AFS Florida USA' ...\n",
            "  'StatusRetired' '0' 'Failure']\n",
            " ['4322' 'RVSN USSR' 'Site 1/5 Baikonur Cosmodrome Kazakhstan' ...\n",
            "  'StatusRetired' '0' 'Success']\n",
            " ['4323' 'RVSN USSR' 'Site 1/5 Baikonur Cosmodrome Kazakhstan' ...\n",
            "  'StatusRetired' '0' 'Success']]\n"
          ]
        }
      ],
      "source": [
        "print(dataset)"
      ]
    },
    {
      "cell_type": "markdown",
      "metadata": {
        "id": "mHVcM7Bx9qsd"
      },
      "source": [
        "# Exercício 1"
      ]
    },
    {
      "cell_type": "markdown",
      "metadata": {
        "id": "eQz3fmMl90Lz"
      },
      "source": [
        "Porcentagem das missões que deram certo"
      ]
    },
    {
      "cell_type": "code",
      "execution_count": 6,
      "metadata": {
        "colab": {
          "base_uri": "https://localhost:8080/"
        },
        "id": "lEkzC0gH9zAh",
        "outputId": "965d67dc-e4ff-4c7f-cc86-a70a814b99f8"
      },
      "outputs": [
        {
          "name": "stdout",
          "output_type": "stream",
          "text": [
            "Porcentagem de missões que deram certo:  89.71 %.\n"
          ]
        }
      ],
      "source": [
        "#As missões que deram certo estão determinadas como \"Success\" na coluna \"Status Mission\"\n",
        "#Número de ocorrências de Success/número de linhas no dataset\n",
        "\n",
        "#encontrar a string \"Success\"\n",
        "array = np.char.find(dataset, \"Success\")\n",
        "\n",
        "#contar ocorrências\n",
        "success = array[array!=-1]\n",
        "#print(success)\n",
        "#print(len(success))\n",
        "\n",
        "#dividir essas ocorrências pelo número de linhas totais no dataset\n",
        "print(\"Porcentagem de missões que deram certo: \", \"{:.2f}\".format((len(success)/(len(dataset)-1))*100 ), \"%.\")"
      ]
    },
    {
      "cell_type": "code",
      "execution_count": 5,
      "metadata": {},
      "outputs": [
        {
          "name": "stdout",
          "output_type": "stream",
          "text": [
            "Porcentagem de missões que deram certo: 89.71%\n"
          ]
        }
      ],
      "source": [
        "# Suponha que \"Status Mission\" esteja na terceira coluna (índice 2) após verificar os cabeçalhos\n",
        "status_col_index = 7  # Atualize se necessário\n",
        "\n",
        "# Se a primeira linha for cabeçalho, excluímos ela usando dataset[1:]\n",
        "status_missions = dataset[1:, status_col_index] if dataset[0, status_col_index] == \"Status Mission\" else dataset[:, status_col_index]\n",
        "\n",
        "# Contar quantas missões deram certo\n",
        "success_count = np.count_nonzero(status_missions == \"Success\")\n",
        "total_count = len(status_missions)\n",
        "\n",
        "# Exibir o resultado formatado\n",
        "print(\"Porcentagem de missões que deram certo: {:.2f}%\".format((success_count / total_count) * 100))\n"
      ]
    },
    {
      "cell_type": "markdown",
      "metadata": {
        "id": "-XjbbppsAvBf"
      },
      "source": [
        "# Exercício 2"
      ]
    },
    {
      "cell_type": "markdown",
      "metadata": {
        "id": "EbXAo3XZAxXS"
      },
      "source": [
        "média de gastos"
      ]
    },
    {
      "cell_type": "code",
      "execution_count": 7,
      "metadata": {
        "colab": {
          "base_uri": "https://localhost:8080/"
        },
        "id": "AwJo7PQ0A01N",
        "outputId": "ed8eb449-7da2-427d-c780-73d0363f1dda"
      },
      "outputs": [
        {
          "name": "stdout",
          "output_type": "stream",
          "text": [
            "Média de gastos de uma missão espacial: R$ 153.79.\n"
          ]
        }
      ],
      "source": [
        "#somar todos os gastos das missões\n",
        "#Acessar a penúltima coluna e fazer a soma\n",
        "mtz = dataset[1:,-2] #acesso aos valores da penúltima coluna\n",
        "mtz = mtz.astype(float) #conversão para float\n",
        "new_mtz = mtz[mtz>0] #acesso aos valores não nulos\n",
        "\n",
        "#média de gastos\n",
        "print(\"Média de gastos de uma missão espacial: R$\", \"{:.2f}.\".format(new_mtz.mean()))"
      ]
    },
    {
      "cell_type": "markdown",
      "metadata": {
        "id": "s_5Jv_rtE-QI"
      },
      "source": [
        "# Exercício 3"
      ]
    },
    {
      "cell_type": "markdown",
      "metadata": {
        "id": "EybPyKWLFA_6"
      },
      "source": [
        "Quantas missões foram feitas pelos Estados Unidos"
      ]
    },
    {
      "cell_type": "code",
      "execution_count": 8,
      "metadata": {
        "colab": {
          "base_uri": "https://localhost:8080/"
        },
        "id": "tyQ2mb82FHtN",
        "outputId": "d3546abb-443c-418d-fe78-bf29bf224377"
      },
      "outputs": [
        {
          "name": "stdout",
          "output_type": "stream",
          "text": [
            "1393 missões foram feitas pelos Estados Unidos.\n"
          ]
        }
      ],
      "source": [
        "#Encontrar substring (USA) e contar\n",
        "arr = np.char.find(dataset, \"USA\")\n",
        "usa = arr[arr!=-1]\n",
        "print(len(usa), \"missões foram feitas pelos Estados Unidos.\")"
      ]
    },
    {
      "cell_type": "code",
      "execution_count": 11,
      "metadata": {},
      "outputs": [
        {
          "name": "stdout",
          "output_type": "stream",
          "text": [
            "1393 missões foram feitas pelos Estados Unidos.\n"
          ]
        }
      ],
      "source": [
        "#Encontrar substring (USA) e contar\n",
        "arr = np.char.count(dataset, \"USA\")\n",
        "usa = arr[arr!=0]\n",
        "print(len(usa), \"missões foram feitas pelos Estados Unidos.\")"
      ]
    },
    {
      "cell_type": "markdown",
      "metadata": {
        "id": "KGR85Wu7I5ww"
      },
      "source": [
        "# Exercício 4"
      ]
    },
    {
      "cell_type": "markdown",
      "metadata": {
        "id": "4CnBj7TjI70h"
      },
      "source": [
        "Missão mais cara da SpaceX"
      ]
    },
    {
      "cell_type": "code",
      "execution_count": 10,
      "metadata": {
        "colab": {
          "base_uri": "https://localhost:8080/"
        },
        "id": "wC5HqcDDJA2l",
        "outputId": "1212e4cd-028e-415e-db54-d7005e935771"
      },
      "outputs": [
        {
          "name": "stdout",
          "output_type": "stream",
          "text": [
            "A missão mais cara da SpaceX é: ['129' 'SpaceX' 'LC-39A Kennedy Space Center Florida USA'\n",
            " 'Tue Jun 25 2019 06:30 UTC' 'Falcon Heavy | STP-2' 'StatusActive' '90.0 '\n",
            " 'Success']\n"
          ]
        }
      ],
      "source": [
        "#Encontrar substring \"SpaceX\"\n",
        "array4 = np.char.find(dataset, \"SpaceX\")\n",
        "listt = []\n",
        "\n",
        "for i in range(len(array4)):\n",
        "  if array4[i,1] != -1:\n",
        "    new_dict = {'index': i, 'value': dataset[i, -2]}\n",
        "    listt.append(new_dict)\n",
        "\n",
        "#correr pela lista buscando o maior valor\n",
        "max_value = max(listt, key=lambda x: x['value'])\n",
        "#print(max_value['value'])\n",
        "#print(max_value['index'])\n",
        "\n",
        "\n",
        "print(\"A missão mais cara da SpaceX é:\", dataset[max_value['index'],:])\n"
      ]
    },
    {
      "cell_type": "code",
      "execution_count": 13,
      "metadata": {},
      "outputs": [
        {
          "name": "stdout",
          "output_type": "stream",
          "text": [
            "A missão mais cara da SpaceX é: ['129' 'SpaceX' 'LC-39A Kennedy Space Center Florida USA'\n",
            " 'Tue Jun 25 2019 06:30 UTC' 'Falcon Heavy | STP-2' 'StatusActive' '90.0 '\n",
            " 'Success']\n"
          ]
        }
      ],
      "source": [
        "import numpy as np\n",
        "\n",
        "# Suponha que a coluna com os nomes das empresas seja a 3ª (índice 2)\n",
        "company_col_index = 1  \n",
        "cost_col_index = -2  # Penúltima coluna contém os custos das missões\n",
        "\n",
        "# Remover cabeçalho e selecionar a coluna das empresas\n",
        "companies = dataset[1:, company_col_index]\n",
        "costs = dataset[1:, cost_col_index]\n",
        "\n",
        "# Criar lista de dicionários apenas para missões da SpaceX\n",
        "listt = []\n",
        "\n",
        "for i in range(len(companies)):\n",
        "    if companies[i] == \"SpaceX\":  # Busca exata, sem substrings\n",
        "        try:\n",
        "            # Remover caracteres indesejados e converter para float\n",
        "            clean_cost = costs[i].replace(\"$\", \"\").replace(\",\", \"\").strip()\n",
        "            cost_value = float(clean_cost)\n",
        "            \n",
        "            # Adicionar à lista\n",
        "            listt.append({'index': i + 1, 'value': cost_value})  # +1 para compensar cabeçalho removido\n",
        "\n",
        "        except ValueError:\n",
        "            # Caso tenha valores não numéricos, apenas ignore\n",
        "            continue\n",
        "\n",
        "# Encontrar a missão mais cara\n",
        "if listt:\n",
        "    max_value = max(listt, key=lambda x: x['value'])\n",
        "    print(\"A missão mais cara da SpaceX é:\", dataset[max_value['index'], :])\n",
        "else:\n",
        "    print(\"Nenhuma missão válida da SpaceX encontrada.\")\n"
      ]
    },
    {
      "cell_type": "markdown",
      "metadata": {
        "id": "Z5ZIlxlXSw7l"
      },
      "source": [
        "# Exercício 5"
      ]
    },
    {
      "cell_type": "markdown",
      "metadata": {
        "id": "kGOJmodrS5V5"
      },
      "source": [
        "Nome das empresas + o número de missões que fizeram"
      ]
    },
    {
      "cell_type": "code",
      "execution_count": 15,
      "metadata": {},
      "outputs": [
        {
          "name": "stdout",
          "output_type": "stream",
          "text": [
            "AEB : 3\n",
            "AMBA : 8\n",
            "ASI : 9\n",
            "Arianespace : 279\n",
            "Arm??e de l'Air : 4\n",
            "Blue Origin : 12\n",
            "Boeing : 136\n",
            "CASC : 251\n",
            "CASIC : 5\n",
            "CECLES : 4\n",
            "CNES : 8\n",
            "Douglas : 1\n",
            "EER : 1\n",
            "ESA : 13\n",
            "Eurockot : 13\n",
            "ExPace : 10\n",
            "Exos : 4\n",
            "General Dynamics : 251\n",
            "IAI : 11\n",
            "ILS : 46\n",
            "IRGC : 1\n",
            "ISA : 13\n",
            "ISAS : 30\n",
            "ISRO : 76\n",
            "JAXA : 7\n",
            "KARI : 3\n",
            "KCST : 5\n",
            "Khrunichev : 1\n",
            "Kosmotras : 22\n",
            "Land Launch : 7\n",
            "Landspace : 1\n",
            "Lockheed : 79\n",
            "MHI : 84\n",
            "MITT : 7\n",
            "Martin Marietta : 114\n",
            "NASA : 203\n",
            "Northrop : 83\n",
            "OKB-586 : 2\n",
            "OneSpace : 1\n",
            "RAE : 2\n",
            "RVSN USSR : 1777\n",
            "Rocket Lab : 13\n",
            "Roscosmos : 55\n",
            "SRC : 3\n",
            "Sandia : 1\n",
            "Sea Launch : 36\n",
            "SpaceX : 100\n",
            "Starsem : 1\n",
            "ULA : 140\n",
            "US Air Force : 161\n",
            "US Navy : 17\n",
            "UT : 5\n",
            "VKS RF : 201\n",
            "Virgin Orbit : 1\n",
            "Yuzhmash : 2\n",
            "i-Space : 1\n"
          ]
        }
      ],
      "source": [
        "elements, counts = np.unique(dataset[1:,1], return_counts = True)\n",
        "#print(elements)\n",
        "#print(counts)\n",
        "\n",
        "for i in range(len(elements)):\n",
        "    print(elements[i], \":\", counts[i])"
      ]
    },
    {
      "cell_type": "code",
      "execution_count": 43,
      "metadata": {
        "colab": {
          "base_uri": "https://localhost:8080/"
        },
        "id": "fJ1TPLnlSyra",
        "outputId": "80bdff7e-9a99-4c80-bb78-f2ba3307ab7e"
      },
      "outputs": [
        {
          "name": "stdout",
          "output_type": "stream",
          "text": [
            "SpaceX : 100 missões\n",
            "CASC : 251 missões\n",
            "Roscosmos : 55 missões\n",
            "ULA : 140 missões\n",
            "JAXA : 7 missões\n",
            "Northrop : 83 missões\n",
            "ExPace : 10 missões\n",
            "IAI : 11 missões\n",
            "Rocket Lab : 13 missões\n",
            "Virgin Orbit : 1 missões\n",
            "VKS RF : 201 missões\n",
            "MHI : 84 missões\n",
            "IRGC : 1 missões\n",
            "Arianespace : 279 missões\n",
            "ISA : 13 missões\n",
            "Blue Origin : 12 missões\n",
            "ISRO : 76 missões\n",
            "Exos : 4 missões\n",
            "ILS : 46 missões\n",
            "i-Space : 1 missões\n",
            "OneSpace : 1 missões\n",
            "Landspace : 1 missões\n",
            "Eurockot : 13 missões\n",
            "Land Launch : 7 missões\n",
            "CASIC : 5 missões\n",
            "KCST : 5 missões\n",
            "Sandia : 1 missões\n",
            "Kosmotras : 22 missões\n",
            "Khrunichev : 1 missões\n",
            "Sea Launch : 36 missões\n",
            "KARI : 3 missões\n",
            "ESA : 13 missões\n",
            "NASA : 203 missões\n",
            "Boeing : 136 missões\n",
            "ISAS : 30 missões\n",
            "SRC : 3 missões\n",
            "MITT : 7 missões\n",
            "Lockheed : 79 missões\n",
            "AEB : 3 missões\n",
            "Starsem : 1 missões\n",
            "RVSN USSR : 1777 missões\n",
            "EER : 1 missões\n",
            "General Dynamics : 251 missões\n",
            "Martin Marietta : 114 missões\n",
            "Yuzhmash : 2 missões\n",
            "Douglas : 1 missões\n",
            "ASI : 9 missões\n",
            "US Air Force : 161 missões\n",
            "CNES : 8 missões\n",
            "CECLES : 4 missões\n",
            "RAE : 2 missões\n",
            "UT : 5 missões\n",
            "OKB-586 : 2 missões\n",
            "AMBA : 8 missões\n",
            "Arm??e de l'Air : 4 missões\n",
            "US Navy : 17 missões\n"
          ]
        }
      ],
      "source": [
        "#varrer o dataset com base na coluna 1 (company name) pulando a primeira linha\n",
        "#recortar apenas a coluna 1\n",
        "analysis = dataset[1:,1]\n",
        "#print(analysis)\n",
        "list_companies = []\n",
        "\n",
        "#analisar se o nome é diferente de algum já presente na lista de dicionários\n",
        "for i in range(len(analysis)):\n",
        "\n",
        "  #se a lista de empresas está vazia\n",
        "  if list_companies == []:\n",
        "    #adicionar a primeira empresa e contabilizar uma missão\n",
        "    new_dict = {'name': analysis[i], 'missions': 1}\n",
        "    list_companies.append(new_dict)\n",
        "\n",
        "  #Se há empresas já contabilizadas\n",
        "  else:\n",
        "    #varrer a lista de empresas e comparar com a nova informação\n",
        "    exists = False\n",
        "    for j in range(len(list_companies)):\n",
        "      if analysis[i] == list_companies[j]['name']:\n",
        "        #caso seja igual, adicionar +1 no número de missões\n",
        "        list_companies[j]['missions'] += 1\n",
        "        exists = True\n",
        "        break\n",
        "    if not exists:\n",
        "      #caso seja diferente, gerar uma nova posição na lista\n",
        "      new_dict = {'name': analysis[i], 'missions': 1}\n",
        "      list_companies.append(new_dict)\n",
        "\n",
        "#print(list_companies)\n",
        "\n",
        "#print no nome da empresa e número de missões com base na chave e valor dos dicionários na lista\n",
        "for i in range(len(list_companies)):\n",
        "  print(list_companies[i]['name'], \":\", list_companies[i]['missions'], \"missões\")"
      ]
    },
    {
      "cell_type": "code",
      "execution_count": 16,
      "metadata": {},
      "outputs": [
        {
          "name": "stdout",
          "output_type": "stream",
          "text": [
            "defaultdict(<class 'int'>, {})\n",
            "Spacex : 100 missões\n",
            "Casc : 251 missões\n",
            "Roscosmos : 55 missões\n",
            "Ula : 140 missões\n",
            "Jaxa : 7 missões\n",
            "Northrop : 83 missões\n",
            "Expace : 10 missões\n",
            "Iai : 11 missões\n",
            "Rocket lab : 13 missões\n",
            "Virgin orbit : 1 missões\n",
            "Vks rf : 201 missões\n",
            "Mhi : 84 missões\n",
            "Irgc : 1 missões\n",
            "Arianespace : 279 missões\n",
            "Isa : 13 missões\n",
            "Blue origin : 12 missões\n",
            "Isro : 76 missões\n",
            "Exos : 4 missões\n",
            "Ils : 46 missões\n",
            "I-space : 1 missões\n",
            "Onespace : 1 missões\n",
            "Landspace : 1 missões\n",
            "Eurockot : 13 missões\n",
            "Land launch : 7 missões\n",
            "Casic : 5 missões\n",
            "Kcst : 5 missões\n",
            "Sandia : 1 missões\n",
            "Kosmotras : 22 missões\n",
            "Khrunichev : 1 missões\n",
            "Sea launch : 36 missões\n",
            "Kari : 3 missões\n",
            "Esa : 13 missões\n",
            "Nasa : 203 missões\n",
            "Boeing : 136 missões\n",
            "Isas : 30 missões\n",
            "Src : 3 missões\n",
            "Mitt : 7 missões\n",
            "Lockheed : 79 missões\n",
            "Aeb : 3 missões\n",
            "Starsem : 1 missões\n",
            "Rvsn ussr : 1777 missões\n",
            "Eer : 1 missões\n",
            "General dynamics : 251 missões\n",
            "Martin marietta : 114 missões\n",
            "Yuzhmash : 2 missões\n",
            "Douglas : 1 missões\n",
            "Asi : 9 missões\n",
            "Us air force : 161 missões\n",
            "Cnes : 8 missões\n",
            "Cecles : 4 missões\n",
            "Rae : 2 missões\n",
            "Ut : 5 missões\n",
            "Okb-586 : 2 missões\n",
            "Amba : 8 missões\n",
            "Arm??e de l'air : 4 missões\n",
            "Us navy : 17 missões\n"
          ]
        }
      ],
      "source": [
        "import numpy as np\n",
        "from collections import defaultdict\n",
        "\n",
        "# Índice da coluna que contém os nomes das empresas\n",
        "company_col_index = 1  \n",
        "\n",
        "# Remover cabeçalho e acessar apenas a coluna das empresas\n",
        "companies = dataset[1:, company_col_index]\n",
        "\n",
        "# Dicionário para contar as missões por empresa\n",
        "company_missions = defaultdict(int)\n",
        "\n",
        "print(company_missions)\n",
        "\n",
        "# Contar missões para cada empresa (normalizando os nomes)\n",
        "for company in companies:\n",
        "    company_name = company.strip().lower()  # Remove espaços e padroniza letras minúsculas\n",
        "    if company_name:  # Ignorar valores vazios\n",
        "        company_missions[company_name] += 1\n",
        "\n",
        "# Exibir os resultados\n",
        "for name, missions in company_missions.items():\n",
        "    print(name.capitalize(), \":\", missions, \"missões\")\n"
      ]
    },
    {
      "cell_type": "code",
      "execution_count": 15,
      "metadata": {},
      "outputs": [
        {
          "name": "stdout",
          "output_type": "stream",
          "text": [
            "defaultdict(<class 'int'>, {'spacex': 100, 'casc': 251, 'roscosmos': 55, 'ula': 140, 'jaxa': 7, 'northrop': 83, 'expace': 10, 'iai': 11, 'rocket lab': 13, 'virgin orbit': 1, 'vks rf': 201, 'mhi': 84, 'irgc': 1, 'arianespace': 279, 'isa': 13, 'blue origin': 12, 'isro': 76, 'exos': 4, 'ils': 46, 'i-space': 1, 'onespace': 1, 'landspace': 1, 'eurockot': 13, 'land launch': 7, 'casic': 5, 'kcst': 5, 'sandia': 1, 'kosmotras': 22, 'khrunichev': 1, 'sea launch': 36, 'kari': 3, 'esa': 13, 'nasa': 203, 'boeing': 136, 'isas': 30, 'src': 3, 'mitt': 7, 'lockheed': 79, 'aeb': 3, 'starsem': 1, 'rvsn ussr': 1777, 'eer': 1, 'general dynamics': 251, 'martin marietta': 114, 'yuzhmash': 2, 'douglas': 1, 'asi': 9, 'us air force': 161, 'cnes': 8, 'cecles': 4, 'rae': 2, 'ut': 5, 'okb-586': 2, 'amba': 8, \"arm??e de l'air\": 4, 'us navy': 17})\n"
          ]
        }
      ],
      "source": [
        "print(company_missions)"
      ]
    }
  ],
  "metadata": {
    "colab": {
      "provenance": []
    },
    "kernelspec": {
      "display_name": "myenv",
      "language": "python",
      "name": "python3"
    },
    "language_info": {
      "codemirror_mode": {
        "name": "ipython",
        "version": 3
      },
      "file_extension": ".py",
      "mimetype": "text/x-python",
      "name": "python",
      "nbconvert_exporter": "python",
      "pygments_lexer": "ipython3",
      "version": "3.11.2"
    }
  },
  "nbformat": 4,
  "nbformat_minor": 0
}
