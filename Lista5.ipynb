{
 "cells": [
  {
   "cell_type": "markdown",
   "metadata": {},
   "source": [
    "### Pandas"
   ]
  },
  {
   "cell_type": "code",
   "execution_count": 2,
   "metadata": {},
   "outputs": [],
   "source": [
    "import pandas as pd\n",
    "import numpy as np"
   ]
  },
  {
   "cell_type": "markdown",
   "metadata": {},
   "source": [
    "Exercício 1- criação de duas séries: seriesAno1: {'Java': 16.25, 'C': 16.04, 'Python': 9.85}   ;; seriesAno2: {'C': 16.21, 'Python': 12.12, 'Java': 11.68} "
   ]
  },
  {
   "cell_type": "code",
   "execution_count": 12,
   "metadata": {},
   "outputs": [
    {
     "name": "stdout",
     "output_type": "stream",
     "text": [
      "Java      16.25\n",
      "C         16.04\n",
      "Python     9.85\n",
      "dtype: float64\n",
      "\n",
      "C         16.21\n",
      "Python    12.12\n",
      "Java      11.68\n",
      "dtype: float64\n"
     ]
    }
   ],
   "source": [
    "seriesAno1 = pd.Series(index = ['Java', 'C', 'Python'], data = [16.25, 16.04, 9.85])\n",
    "seriesAno2 = pd.Series(index = ['C', 'Python', 'Java'], data= [16.21, 12.12, 11.68])\n",
    "print(seriesAno1)\n",
    "print()\n",
    "print(seriesAno2)"
   ]
  },
  {
   "cell_type": "markdown",
   "metadata": {},
   "source": [
    "Exercício 2- porcentagem total que essas linguagens representaram no mercado em cada ano"
   ]
  },
  {
   "cell_type": "code",
   "execution_count": 13,
   "metadata": {},
   "outputs": [
    {
     "name": "stdout",
     "output_type": "stream",
     "text": [
      "No primeiro ano, as linguagens Java, Python e C representaram 42.14 % do mercado, enquanto que no segundo ano, as mesmas representaram 40.01 %\n"
     ]
    }
   ],
   "source": [
    "#soma dos valores em cada série separadamente = representação total\n",
    "print(\"No primeiro ano, as linguagens Java, Python e C representaram\",seriesAno1.sum(),f\"% do mercado, enquanto que no segundo ano, as mesmas representaram\",seriesAno2.sum(),\"%\")\n"
   ]
  },
  {
   "cell_type": "markdown",
   "metadata": {},
   "source": [
    "Exercício 3- crescimento/declínio de cada linguagem do 1° para o 2° ano"
   ]
  },
  {
   "cell_type": "code",
   "execution_count": null,
   "metadata": {},
   "outputs": [
    {
     "name": "stdout",
     "output_type": "stream",
     "text": [
      "A linguagem C teve um crescimento de 0.17%\n",
      "A linguagem Java teve um crescimento de -4.57%\n",
      "A linguagem Python teve um crescimento de 2.27%\n"
     ]
    }
   ],
   "source": [
    "#A diferença de cada linguagem, comparando o 1° e o 2° ano, se dá pela subtração das series\n",
    "sub_series = seriesAno2.sub(seriesAno1, fill_value=0)\n",
    "#print(sub_series)\n",
    "\n",
    "print(f\"A linguagem C teve um crescimento de {sub_series['C']:.2f}% do ano 1 para o ano 2.\")\n",
    "print(f\"A linguagem Java teve um crescimento de {sub_series['Java']:.2f}% do ano 1 para o ano 2.\")\n",
    "print(f\"A linguagem Python teve um crescimento de {sub_series['Python']:.2f}% do ano 1 para o ano 2.\")"
   ]
  },
  {
   "cell_type": "markdown",
   "metadata": {},
   "source": [
    "Exercício 4- Mostrar as linguagens com crescimento e seus dados"
   ]
  },
  {
   "cell_type": "code",
   "execution_count": null,
   "metadata": {},
   "outputs": [
    {
     "name": "stdout",
     "output_type": "stream",
     "text": [
      "C :\n",
      "Ano 1: 16.04 %\n",
      "Ano 2: 16.21 %\n",
      "Crescimento de: 0.17 %\n",
      "\n",
      "Python :\n",
      "Ano 1: 9.85 %\n",
      "Ano 2: 12.12 %\n",
      "Crescimento de: 2.27 %\n",
      "\n"
     ]
    }
   ],
   "source": [
    "#filtrando as linguagens com crescimento positivo\n",
    "positives = sub_series[sub_series>=0]\n",
    "#print(positives)\n",
    "\n",
    "for i in range(len(positives.index)): #percorrendo essa series \n",
    "    print(positives.index[i],\":\") #mostrando a linguagem em questão\n",
    "    #pesquisa dos valores nas outras series com base no index\n",
    "    print(\"Ano 1:\",seriesAno1.loc[[positives.index[i]],].values[0],\"%\") #.values[0] para extrair apenas o valor, sem aparecer o dtype, nem \"[]\" encapsulando o valor \n",
    "    print(\"Ano 2:\",seriesAno2.loc[[positives.index[i]],].values[0], \"%\")\n",
    "    print(f\"Crescimento de: {positives.iloc[i]:.2f} %\")\n",
    "    print()"
   ]
  },
  {
   "cell_type": "markdown",
   "metadata": {},
   "source": [
    "Exercício 5- Se a porcentagem de mudança se mantivesse para os próximos dois anos, qual linguagem seria a mais popular? (dica: nlargest(1) -> label e maior valor da series)"
   ]
  },
  {
   "cell_type": "code",
   "execution_count": null,
   "metadata": {},
   "outputs": [
    {
     "name": "stdout",
     "output_type": "stream",
     "text": [
      "A linguagem mais popular, após dois anos de crescimento regular, seria: Python\n"
     ]
    }
   ],
   "source": [
    "#O quarto ano representará o ano 2 + (2 vezes a taxa de crescimento entre o ano 1 e 2)\n",
    "seriesAno4 = seriesAno2.add(sub_series.multiply(2, fill_value=0), fill_value=0) #sub_series = series de crescimento/declínio\n",
    "#print(seriesAno4)\n",
    "\n",
    "#displaying a linguagem mais popular do ano 4\n",
    "print(\"A linguagem mais popular, após dois anos de crescimento regular, seria:\",seriesAno4.nlargest(1).index[0]) #.index[0] mostra apenas o nome da linguagem, sem dtype"
   ]
  },
  {
   "cell_type": "markdown",
   "metadata": {},
   "source": [
    "Exercício 6- usar o DataFrame no tópico 5.3 para calcular a média dos elementos da coluna X que são menores que 30"
   ]
  },
  {
   "cell_type": "code",
   "execution_count": 64,
   "metadata": {},
   "outputs": [
    {
     "name": "stdout",
     "output_type": "stream",
     "text": [
      "A média dos elementos menores que 30 da coluna X é igual a 7.0\n"
     ]
    }
   ],
   "source": [
    "#DataFrame do 5.3\n",
    "np.random.seed(10)\n",
    "df = pd.DataFrame(index = ['A', 'B', 'C', 'D', 'E'], columns = ['W','X','Y','Z'], data = np.random.randint(1, 50, [5,4]))\n",
    "#print(df)\n",
    "\n",
    "#filtrar a cluna X \n",
    "x_df = df[['X']]\n",
    "#print(x_df)\n",
    "\n",
    "#separar os elmentos <30\n",
    "less_30 = x_df[x_df<30]\n",
    "#print(less_30)\n",
    "\n",
    "#fazer a média desses elementos\n",
    "print(\"A média dos elementos menores que 30 da coluna X é igual a\", ((less_30.sum())/len(less_30)).values[0]) #.values[0] para não mostrar o X, tampouco o \"[]\" envolvendo o valor"
   ]
  },
  {
   "cell_type": "markdown",
   "metadata": {},
   "source": [
    "Exercício 7- Apresentar a média dos elementos da linha D com a função loc() e a soma dos elementos da linha E com iloc()"
   ]
  },
  {
   "cell_type": "code",
   "execution_count": 94,
   "metadata": {},
   "outputs": [
    {
     "name": "stdout",
     "output_type": "stream",
     "text": [
      "A média dos elementos da linha D é: 34.5\n",
      "A soma dos elementos da linha E é: 122\n"
     ]
    }
   ],
   "source": [
    "#média dos elementos da linha D com loc()\n",
    "d_df = df.loc[['D']] #slicing da linha D\n",
    "print(\"A média dos elementos da linha D é:\",d_df.mean(axis = 1).values[0]) #.values[0] para retirar o 'D' e o \"[]\" envolvendo o valor\n",
    "\n",
    "#soma dos elementos em E com iloc()\n",
    "e_df = df.iloc[-1:,:] #slicing da linha E\n",
    "print(\"A soma dos elementos da linha E é:\", e_df.sum(axis=1).values[0])"
   ]
  },
  {
   "cell_type": "markdown",
   "metadata": {},
   "source": [
    "Exercício 8- Slicing mostrando só as linhas A, C e E e as colunas X e Y; depois mostrar a soma dos elementos de cada linha e de cada coluna"
   ]
  },
  {
   "cell_type": "code",
   "execution_count": null,
   "metadata": {},
   "outputs": [
    {
     "name": "stdout",
     "output_type": "stream",
     "text": [
      "    X   Y\n",
      "A  37  16\n",
      "C   9  10\n",
      "E  48  12\n",
      "\n",
      "Soma dos elementos por linha:\n",
      " A    53\n",
      "C    19\n",
      "E    60\n",
      "dtype: int64\n",
      "\n",
      "Soma dos elementos por coluna:\n",
      " X    94\n",
      "Y    38\n",
      "dtype: int64\n"
     ]
    }
   ],
   "source": [
    "new_df = df.loc[['A', 'C', 'E'], ['X', 'Y']] #slicing das linhas e colunas \n",
    "print(new_df)\n",
    "print()\n",
    "print(\"Soma dos elementos por linha:\\n\", new_df.sum(axis=1))\n",
    "print()\n",
    "print(\"Soma dos elementos por coluna:\\n\", new_df.sum(axis=0))"
   ]
  }
 ],
 "metadata": {
  "kernelspec": {
   "display_name": "myenv",
   "language": "python",
   "name": "python3"
  },
  "language_info": {
   "codemirror_mode": {
    "name": "ipython",
    "version": 3
   },
   "file_extension": ".py",
   "mimetype": "text/x-python",
   "name": "python",
   "nbconvert_exporter": "python",
   "pygments_lexer": "ipython3",
   "version": "3.11.2"
  }
 },
 "nbformat": 4,
 "nbformat_minor": 2
}
