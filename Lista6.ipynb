{
 "cells": [
  {
   "cell_type": "markdown",
   "metadata": {},
   "source": [
    "### Pandas - exercício parte 3"
   ]
  },
  {
   "cell_type": "code",
   "execution_count": 1,
   "metadata": {},
   "outputs": [],
   "source": [
    "import pandas as pd\n",
    "import numpy as np"
   ]
  },
  {
   "cell_type": "markdown",
   "metadata": {},
   "source": [
    "Exercício 1 - carregar o dataset e mostrar:"
   ]
  },
  {
   "cell_type": "code",
   "execution_count": 2,
   "metadata": {},
   "outputs": [],
   "source": [
    "df_paises = pd.read_csv(r\"C:\\Users\\lanna\\Downloads\\paises.csv\", delimiter = ';')"
   ]
  },
  {
   "cell_type": "code",
   "execution_count": 4,
   "metadata": {},
   "outputs": [
    {
     "name": "stdout",
     "output_type": "stream",
     "text": [
      "Index(['Country', 'Region', 'Population', 'Area (sq. mi.)',\n",
      "       'Pop. Density (per sq. mi.)', 'Coastline (coast/area ratio)',\n",
      "       'Net migration', 'Infant mortality (per 1000 births)',\n",
      "       'GDP ($ per capita)', 'Literacy (%)', 'Phones (per 1000)', 'Arable (%)',\n",
      "       'Crops (%)', 'Other (%)', 'Climate', 'Birthrate', 'Deathrate',\n",
      "       'Agriculture', 'Industry', 'Service'],\n",
      "      dtype='object')\n"
     ]
    }
   ],
   "source": [
    "print(df_paises.columns)"
   ]
  },
  {
   "cell_type": "markdown",
   "metadata": {},
   "source": [
    "a. Quais são os países da Oceania "
   ]
  },
  {
   "cell_type": "code",
   "execution_count": null,
   "metadata": {},
   "outputs": [
    {
     "name": "stdout",
     "output_type": "stream",
     "text": [
      "3            American Samoa \n",
      "11                Australia \n",
      "47             Cook Islands \n",
      "67                     Fiji \n",
      "71         French Polynesia \n",
      "83                     Guam \n",
      "108                Kiribati \n",
      "130        Marshall Islands \n",
      "136    Micronesia, Fed. St. \n",
      "144                   Nauru \n",
      "148           New Caledonia \n",
      "149             New Zealand \n",
      "153      N. Mariana Islands \n",
      "157                   Palau \n",
      "159        Papua New Guinea \n",
      "176                   Samoa \n",
      "187         Solomon Islands \n",
      "203                   Tonga \n",
      "209                  Tuvalu \n",
      "217                 Vanuatu \n",
      "221       Wallis and Futuna \n",
      "Name: Country, dtype: object\n",
      "<pandas.core.groupby.generic.SeriesGroupBy object at 0x00000243F431FF10>\n"
     ]
    }
   ],
   "source": [
    "#print(df_paises['Region'])\n",
    "#Executar o comando acima nos permite ver que as strings têm espaçamentos desnecessários\n",
    "\n",
    "#print(df_paises['Region'] == \"OCEANIA                            \") #ou utilizar trim\n",
    "#print(df_paises[df_paises['Region'] == \"OCEANIA                            \"]) #series de True e False (máscara)\n",
    "df_oceania = df_paises[df_paises['Region'] == \"OCEANIA                            \"]\n",
    "print(df_oceania['Country'])"
   ]
  },
  {
   "cell_type": "markdown",
   "metadata": {},
   "source": [
    "b. Quantos países são da Oceania"
   ]
  },
  {
   "cell_type": "code",
   "execution_count": 20,
   "metadata": {},
   "outputs": [
    {
     "name": "stdout",
     "output_type": "stream",
     "text": [
      "21 países desse dataset pertencem a região da Oceania.\n"
     ]
    }
   ],
   "source": [
    "print(df_oceania.count()['Country'], \"países desse dataset pertencem a região da Oceania.\")"
   ]
  },
  {
   "cell_type": "markdown",
   "metadata": {},
   "source": [
    "Exercício 2 - Nome e região do país com a maior população"
   ]
  },
  {
   "cell_type": "code",
   "execution_count": 26,
   "metadata": {},
   "outputs": [
    {
     "name": "stdout",
     "output_type": "stream",
     "text": [
      "O país com a maior população é:\n",
      "   Country                         Region\n",
      "42  China   ASIA (EX. NEAR EAST)         \n"
     ]
    }
   ],
   "source": [
    "df_maiorPais= df_paises.nlargest(1, 'Population')\n",
    "print(\"O país com a maior população é:\")\n",
    "print(pd.concat([df_maiorPais['Country'], df_maiorPais['Region']], axis = 1))\n"
   ]
  },
  {
   "cell_type": "markdown",
   "metadata": {},
   "source": [
    "Exercício 3 - Agrupamento por região e cálculo da média da porcentagem de alfabetização de cada uma"
   ]
  },
  {
   "cell_type": "code",
   "execution_count": 34,
   "metadata": {},
   "outputs": [
    {
     "name": "stdout",
     "output_type": "stream",
     "text": [
      "Média da porcentagem de alfabetização de cada região listada no dataset: Region\n",
      "ASIA (EX. NEAR EAST)                   12.87\n",
      "BALTICS                                 1.73\n",
      "C.W. OF IND. STATES                     6.84\n",
      "EASTERN EUROPE                          5.05\n",
      "LATIN AMER. & CARIB                    23.04\n",
      "NEAR EAST                               6.43\n",
      "NORTHERN AFRICA                         1.94\n",
      "NORTHERN AMERICA                        2.26\n",
      "OCEANIA                                 8.72\n",
      "SUB-SAHARAN AFRICA                     18.05\n",
      "WESTERN EUROPE                         13.07\n",
      "Name: Literacy (%), dtype: float64\n"
     ]
    }
   ],
   "source": [
    "df_regions = df_paises.groupby('Region')\n",
    "literacy = df_paises.sum()['Literacy (%)']\n",
    "#print(literacy)\n",
    "sum_region = df_regions.sum()['Literacy (%)']\n",
    "#print(df_regions.sum()['Literacy (%)'])\n",
    "\n",
    "print(\"Média da porcentagem de alfabetização de cada região listada no dataset:\", round((sum_region/literacy)*100, 2))"
   ]
  },
  {
   "cell_type": "markdown",
   "metadata": {},
   "source": [
    "Exercício 4 - Extrair do dataset os países sem costa oceânica (Coastline (coast/area ratio) == 0) e guardar em um novo arquivo chamado noCoast.csv"
   ]
  },
  {
   "cell_type": "code",
   "execution_count": 7,
   "metadata": {},
   "outputs": [
    {
     "name": "stdout",
     "output_type": "stream",
     "text": [
      "0               Afghanistan \n",
      "4                   Andorra \n",
      "9                   Armenia \n",
      "12                  Austria \n",
      "13               Azerbaijan \n",
      "18                  Belarus \n",
      "23                   Bhutan \n",
      "24                  Bolivia \n",
      "26                 Botswana \n",
      "31             Burkina Faso \n",
      "33                  Burundi \n",
      "39     Central African Rep. \n",
      "40                     Chad \n",
      "45         Congo, Dem. Rep. \n",
      "53           Czech Republic \n",
      "65                 Ethiopia \n",
      "92                  Hungary \n",
      "106              Kazakhstan \n",
      "112              Kyrgyzstan \n",
      "113                    Laos \n",
      "116                 Lesotho \n",
      "119           Liechtenstein \n",
      "121              Luxembourg \n",
      "123               Macedonia \n",
      "125                  Malawi \n",
      "128                    Mali \n",
      "137                 Moldova \n",
      "139                Mongolia \n",
      "145                   Nepal \n",
      "151                   Niger \n",
      "160                Paraguay \n",
      "170                  Rwanda \n",
      "177              San Marino \n",
      "181                  Serbia \n",
      "185                Slovakia \n",
      "194               Swaziland \n",
      "196             Switzerland \n",
      "199              Tajikistan \n",
      "207            Turkmenistan \n",
      "210                  Uganda \n",
      "216              Uzbekistan \n",
      "222               West Bank \n",
      "225                  Zambia \n",
      "226                Zimbabwe \n",
      "Name: Country, dtype: object\n",
      "    Unnamed: 0                Country\n",
      "0            0           Afghanistan \n",
      "1            4               Andorra \n",
      "2            9               Armenia \n",
      "3           12               Austria \n",
      "4           13            Azerbaijan \n",
      "5           18               Belarus \n",
      "6           23                Bhutan \n",
      "7           24               Bolivia \n",
      "8           26              Botswana \n",
      "9           31          Burkina Faso \n",
      "10          33               Burundi \n",
      "11          39  Central African Rep. \n",
      "12          40                  Chad \n",
      "13          45      Congo, Dem. Rep. \n",
      "14          53        Czech Republic \n",
      "15          65              Ethiopia \n",
      "16          92               Hungary \n",
      "17         106            Kazakhstan \n",
      "18         112            Kyrgyzstan \n",
      "19         113                  Laos \n",
      "20         116               Lesotho \n",
      "21         119         Liechtenstein \n",
      "22         121            Luxembourg \n",
      "23         123             Macedonia \n",
      "24         125                Malawi \n",
      "25         128                  Mali \n",
      "26         137               Moldova \n",
      "27         139              Mongolia \n",
      "28         145                 Nepal \n",
      "29         151                 Niger \n",
      "30         160              Paraguay \n",
      "31         170                Rwanda \n",
      "32         177            San Marino \n",
      "33         181                Serbia \n",
      "34         185              Slovakia \n",
      "35         194             Swaziland \n",
      "36         196           Switzerland \n",
      "37         199            Tajikistan \n",
      "38         207          Turkmenistan \n",
      "39         210                Uganda \n",
      "40         216            Uzbekistan \n",
      "41         222             West Bank \n",
      "42         225                Zambia \n",
      "43         226              Zimbabwe \n"
     ]
    }
   ],
   "source": [
    "#usando a lógica de um exercício anterior\n",
    "df_no_coast = df_paises[df_paises['Coastline (coast/area ratio)'] == 0]\n",
    "\n",
    "print(df_no_coast['Country'])\n",
    "\n",
    "df_no_coast['Country'].to_csv('noCoast.csv', sep = ';')\n",
    "\n",
    "df_test = pd.read_csv('noCoast.csv', delimiter=';')\n",
    "\n",
    "print(df_test)"
   ]
  },
  {
   "cell_type": "markdown",
   "metadata": {},
   "source": [
    "Exercício 5 - função custom de controle de taxa de mortalidade de cada país, filtrando por 'Balanced' se <9 e 'Urgent' se >=9. O resultado dessa função deve ser inserido através de uma nova coluna 'Humanitarian Help'"
   ]
  },
  {
   "cell_type": "code",
   "execution_count": 10,
   "metadata": {},
   "outputs": [
    {
     "name": "stdout",
     "output_type": "stream",
     "text": [
      "             Country                               Region  Population  \\\n",
      "0       Afghanistan         ASIA (EX. NEAR EAST)             31056997   \n",
      "1           Albania   EASTERN EUROPE                          3581655   \n",
      "2           Algeria   NORTHERN AFRICA                        32930091   \n",
      "3    American Samoa   OCEANIA                                   57794   \n",
      "4           Andorra   WESTERN EUROPE                            71201   \n",
      "..               ...                                  ...         ...   \n",
      "222       West Bank   NEAR EAST                               2460492   \n",
      "223  Western Sahara   NORTHERN AFRICA                          273008   \n",
      "224           Yemen   NEAR EAST                              21456188   \n",
      "225          Zambia   SUB-SAHARAN AFRICA                     11502010   \n",
      "226        Zimbabwe   SUB-SAHARAN AFRICA                     12236805   \n",
      "\n",
      "     Area (sq. mi.)  Pop. Density (per sq. mi.)  Coastline (coast/area ratio)  \\\n",
      "0            647500                        48.0                          0.00   \n",
      "1             28748                       124.6                          1.26   \n",
      "2           2381740                        13.8                          0.04   \n",
      "3               199                       290.4                         58.29   \n",
      "4               468                       152.1                          0.00   \n",
      "..              ...                         ...                           ...   \n",
      "222            5860                       419.9                          0.00   \n",
      "223          266000                         1.0                          0.42   \n",
      "224          527970                        40.6                          0.36   \n",
      "225          752614                        15.3                          0.00   \n",
      "226          390580                        31.3                          0.00   \n",
      "\n",
      "     Net migration  Infant mortality (per 1000 births)  GDP ($ per capita)  \\\n",
      "0            23.06                              163.07                 700   \n",
      "1            -4.93                               21.52                4500   \n",
      "2            -0.39                               31.00                6000   \n",
      "3           -20.71                                9.27                8000   \n",
      "4             6.60                                4.05               19000   \n",
      "..             ...                                 ...                 ...   \n",
      "222           2.98                               19.62                 800   \n",
      "223           0.00                                0.00                   0   \n",
      "224           0.00                               61.50                 800   \n",
      "225           0.00                               88.29                 800   \n",
      "226           0.00                               67.69                1900   \n",
      "\n",
      "     Literacy (%)  ...  Arable (%)  Crops (%)  Other (%)  Climate  Birthrate  \\\n",
      "0            36.0  ...       12.13       0.22      87.65      1.0      46.60   \n",
      "1            86.5  ...       21.09       4.42      74.49      3.0      15.11   \n",
      "2            70.0  ...        3.22       0.25      96.53      1.0      17.14   \n",
      "3            97.0  ...       10.00      15.00      75.00      2.0      22.46   \n",
      "4           100.0  ...        2.22       0.00      97.78      3.0       8.71   \n",
      "..            ...  ...         ...        ...        ...      ...        ...   \n",
      "222           0.0  ...       16.90      18.97      64.13      3.0      31.67   \n",
      "223           0.0  ...        0.02       0.00      99.98      1.0       0.00   \n",
      "224          50.2  ...        2.78       0.24      96.98      1.0      42.89   \n",
      "225          80.6  ...        7.08       0.03      92.90      2.0      41.00   \n",
      "226          90.7  ...        8.32       0.34      91.34      2.0      28.01   \n",
      "\n",
      "     Deathrate  Agriculture  Industry  Service  Humanitarian Help  \n",
      "0        20.34        0.380     0.240    0.380             Urgent  \n",
      "1         5.22        0.232     0.188    0.579           Balanced  \n",
      "2         4.61        0.101     0.600    0.298           Balanced  \n",
      "3         3.27        0.000     0.000    0.000           Balanced  \n",
      "4         6.25        0.000     0.000    0.000           Balanced  \n",
      "..         ...          ...       ...      ...                ...  \n",
      "222       3.92        0.090     0.280    0.630           Balanced  \n",
      "223       0.00        0.000     0.000    0.400           Balanced  \n",
      "224       8.30        0.135     0.472    0.393           Balanced  \n",
      "225      19.93        0.220     0.290    0.489             Urgent  \n",
      "226      21.84        0.179     0.243    0.579             Urgent  \n",
      "\n",
      "[227 rows x 21 columns]\n"
     ]
    }
   ],
   "source": [
    "def classify_death_rate(deathrate):\n",
    "    if deathrate < 9:\n",
    "        return \"Balanced\"\n",
    "    else:\n",
    "        return \"Urgent\"\n",
    "\n",
    "df_classification = df_paises['Deathrate'].apply(classify_death_rate)\n",
    "\n",
    "df_paises['Humanitarian Help'] = df_classification\n",
    "\n",
    "print(df_paises)"
   ]
  }
 ],
 "metadata": {
  "kernelspec": {
   "display_name": "myenv",
   "language": "python",
   "name": "python3"
  },
  "language_info": {
   "codemirror_mode": {
    "name": "ipython",
    "version": 3
   },
   "file_extension": ".py",
   "mimetype": "text/x-python",
   "name": "python",
   "nbconvert_exporter": "python",
   "pygments_lexer": "ipython3",
   "version": "3.11.2"
  }
 },
 "nbformat": 4,
 "nbformat_minor": 2
}
